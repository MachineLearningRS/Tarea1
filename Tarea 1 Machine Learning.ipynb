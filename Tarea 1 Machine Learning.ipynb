{
 "cells": [
  {
   "cell_type": "markdown",
   "metadata": {},
   "source": [
    "<div class=\"cite2c-biblio\"></div><img src=\"escudo_utfsm.gif\" style=\"float:right;height:100px\">\n",
    "<img src=\"IsotipoDIisocolor.png\" style=\"float:left;height:100px\">\n",
    "<center>\n",
    "    <h1> INF-493 - Machine Learning</h1>\n",
    "    <h1> Tarea 1 - Metodos Lineales para Regresión </h1>\n",
    "</center>\n",
    "<p>\n",
    "<br><center>_Javier Reyes_<strong> - </strong>_javier.reyes.12@sansano.usm.cl_<strong> - </strong>_201273524-6_ </center>\n",
    "<br><center>_Marco Salinas_<strong> - </strong>_marco.salinas.12@sansano.usm.cl_<strong> - </strong>_201273589-0_ </center>\n",
    "</p>"
   ]
  },
  {
   "cell_type": "markdown",
   "metadata": {},
   "source": [
    "# Introducción\n"
   ]
  },
  {
   "cell_type": "markdown",
   "metadata": {},
   "source": [
    "#  1 Regresión Lineal Ordinaria (LSS)\n"
   ]
  },
  {
   "cell_type": "markdown",
   "metadata": {},
   "source": [
    "<p  style=\"text-align: justify;\"> </p>"
   ]
  },
  {
   "cell_type": "markdown",
   "metadata": {
    "collapsed": true
   },
   "source": [
    "<p  style=\"text-align: justify;\"> \n",
    "    **(a)** Construya un dataframe con los datos a analizar descargándolos desde la plataforma como se indicó.\n",
    "Explique por qué se realiza la línea 4.\n",
    "</p>"
   ]
  },
  {
   "cell_type": "code",
   "metadata": {},
   "outputs": [
    {
     "data": {
      "text/html": [
       "<div>\n",
       "<style>\n",
       "    .dataframe thead tr:only-child th {\n",
       "        text-align: right;\n",
       "    }\n",
       "\n",
       "    .dataframe thead th {\n",
       "        text-align: left;\n",
       "    }\n",
       "\n",
       "    .dataframe tbody tr th {\n",
       "        vertical-align: top;\n",
       "    }\n",
       "</style>\n",
       "<table border=\"1\" class=\"dataframe\">\n",
       "  <thead>\n",
       "    <tr style=\"text-align: right;\">\n",
       "      <th></th>\n",
       "      <th>price</th>\n",
       "      <th>bedrooms</th>\n",
       "      <th>bathrooms</th>\n",
       "      <th>sqft_living</th>\n",
       "      <th>sqft_lot</th>\n",
       "      <th>floors</th>\n",
       "      <th>waterfront</th>\n",
       "      <th>view</th>\n",
       "      <th>condition</th>\n",
       "      <th>grade</th>\n",
       "      <th>sqft_above</th>\n",
       "      <th>sqft_basement</th>\n",
       "      <th>yr_built</th>\n",
       "      <th>yr_renovated</th>\n",
       "      <th>lat</th>\n",
       "      <th>long</th>\n",
       "      <th>sqft_living15</th>\n",
       "      <th>sqft_lot15</th>\n",
       "    </tr>\n",
       "  </thead>\n",
       "  <tbody>\n",
       "    <tr>\n",
       "      <th>0</th>\n",
       "      <td>221900.0</td>\n",
       "      <td>3</td>\n",
       "      <td>1.00</td>\n",
       "      <td>1180</td>\n",
       "      <td>5650</td>\n",
       "      <td>1.0</td>\n",
       "      <td>0</td>\n",
       "      <td>0</td>\n",
       "      <td>3</td>\n",
       "      <td>7</td>\n",
       "      <td>1180</td>\n",
       "      <td>0</td>\n",
       "      <td>1955</td>\n",
       "      <td>0</td>\n",
       "      <td>47.5112</td>\n",
       "      <td>-122.257</td>\n",
       "      <td>1340</td>\n",
       "      <td>5650</td>\n",
       "    </tr>\n",
       "    <tr>\n",
       "      <th>1</th>\n",
       "      <td>538000.0</td>\n",
       "      <td>3</td>\n",
       "      <td>2.25</td>\n",
       "      <td>2570</td>\n",
       "      <td>7242</td>\n",
       "      <td>2.0</td>\n",
       "      <td>0</td>\n",
       "      <td>0</td>\n",
       "      <td>3</td>\n",
       "      <td>7</td>\n",
       "      <td>2170</td>\n",
       "      <td>400</td>\n",
       "      <td>1951</td>\n",
       "      <td>1991</td>\n",
       "      <td>47.7210</td>\n",
       "      <td>-122.319</td>\n",
       "      <td>1690</td>\n",
       "      <td>7639</td>\n",
       "    </tr>\n",
       "    <tr>\n",
       "      <th>2</th>\n",
       "      <td>180000.0</td>\n",
       "      <td>2</td>\n",
       "      <td>1.00</td>\n",
       "      <td>770</td>\n",
       "      <td>10000</td>\n",
       "      <td>1.0</td>\n",
       "      <td>0</td>\n",
       "      <td>0</td>\n",
       "      <td>3</td>\n",
       "      <td>6</td>\n",
       "      <td>770</td>\n",
       "      <td>0</td>\n",
       "      <td>1933</td>\n",
       "      <td>0</td>\n",
       "      <td>47.7379</td>\n",
       "      <td>-122.233</td>\n",
       "      <td>2720</td>\n",
       "      <td>8062</td>\n",
       "    </tr>\n",
       "    <tr>\n",
       "      <th>3</th>\n",
       "      <td>604000.0</td>\n",
       "      <td>4</td>\n",
       "      <td>3.00</td>\n",
       "      <td>1960</td>\n",
       "      <td>5000</td>\n",
       "      <td>1.0</td>\n",
       "      <td>0</td>\n",
       "      <td>0</td>\n",
       "      <td>5</td>\n",
       "      <td>7</td>\n",
       "      <td>1050</td>\n",
       "      <td>910</td>\n",
       "      <td>1965</td>\n",
       "      <td>0</td>\n",
       "      <td>47.5208</td>\n",
       "      <td>-122.393</td>\n",
       "      <td>1360</td>\n",
       "      <td>5000</td>\n",
       "    </tr>\n",
       "    <tr>\n",
       "      <th>4</th>\n",
       "      <td>510000.0</td>\n",
       "      <td>3</td>\n",
       "      <td>2.00</td>\n",
       "      <td>1680</td>\n",
       "      <td>8080</td>\n",
       "      <td>1.0</td>\n",
       "      <td>0</td>\n",
       "      <td>0</td>\n",
       "      <td>3</td>\n",
       "      <td>8</td>\n",
       "      <td>1680</td>\n",
       "      <td>0</td>\n",
       "      <td>1987</td>\n",
       "      <td>0</td>\n",
       "      <td>47.6168</td>\n",
       "      <td>-122.045</td>\n",
       "      <td>1800</td>\n",
       "      <td>7503</td>\n",
       "    </tr>\n",
       "  </tbody>\n",
       "</table>\n",
       "</div>"
      ],
      "text/plain": [
       "      price  bedrooms  bathrooms  sqft_living  sqft_lot  floors  waterfront  \\\n",
       "0  221900.0         3       1.00         1180      5650     1.0           0   \n",
       "1  538000.0         3       2.25         2570      7242     2.0           0   \n",
       "2  180000.0         2       1.00          770     10000     1.0           0   \n",
       "3  604000.0         4       3.00         1960      5000     1.0           0   \n",
       "4  510000.0         3       2.00         1680      8080     1.0           0   \n",
       "\n",
       "   view  condition  grade  sqft_above  sqft_basement  yr_built  yr_renovated  \\\n",
       "0     0          3      7        1180              0      1955             0   \n",
       "1     0          3      7        2170            400      1951          1991   \n",
       "2     0          3      6         770              0      1933             0   \n",
       "3     0          5      7        1050            910      1965             0   \n",
       "4     0          3      8        1680              0      1987             0   \n",
       "\n",
       "       lat     long  sqft_living15  sqft_lot15  \n",
       "0  47.5112 -122.257           1340        5650  \n",
       "1  47.7210 -122.319           1690        7639  \n",
       "2  47.7379 -122.233           2720        8062  \n",
       "3  47.5208 -122.393           1360        5000  \n",
       "4  47.6168 -122.045           1800        7503  "
      ]
     },
     "metadata": {},
     "output_type": "execute_result"
    }
   ],
   "source": [
    "import pandas as pd\n",
    "import numpy as np\n",
    "df = pd.read_csv(\"kc_house_data.csv\")\n",
    "df.drop(['id','date','zipcode',],axis=1,inplace=True)\n",
    "df.head()"
   ]
  },
  {
   "cell_type": "markdown",
   "metadata": {
    "collapsed": true
   },
   "source": [
    "<p  style=\"text-align: justify;\">\n",
    "    La función _drop_ utilizada en el código anterior, elimina las columnas \"id\", \"date\" y \"zipcode\" del dataframe, que anteriormente habiamos leido. Esto se realiza debido a que dichos atributos no son relevantes para el estudio del dataframe.\n",
    "</p>\n",
    "\n",
    "<p  style=\"text-align: justify;\"> \n",
    "    **(b)** Describa brevemente el dataset a utilizar.\n",
    "</p>"
   ]
  },
  {
   "cell_type": "code",
   "metadata": {},
   "outputs": [
    {
     "name": "stdout",
     "output_type": "stream",
     "text": [
      "(21613, 18)\n",
      "------------------------------------------\n",
      "<class 'pandas.core.frame.DataFrame'>\n",
      "RangeIndex: 21613 entries, 0 to 21612\n",
      "Data columns (total 18 columns):\n",
      "price            21613 non-null float64\n",
      "bedrooms         21613 non-null int64\n",
      "bathrooms        21613 non-null float64\n",
      "sqft_living      21613 non-null int64\n",
      "sqft_lot         21613 non-null int64\n",
      "floors           21613 non-null float64\n",
      "waterfront       21613 non-null int64\n",
      "view             21613 non-null int64\n",
      "condition        21613 non-null int64\n",
      "grade            21613 non-null int64\n",
      "sqft_above       21613 non-null int64\n",
      "sqft_basement    21613 non-null int64\n",
      "yr_built         21613 non-null int64\n",
      "yr_renovated     21613 non-null int64\n",
      "lat              21613 non-null float64\n",
      "long             21613 non-null float64\n",
      "sqft_living15    21613 non-null int64\n",
      "sqft_lot15       21613 non-null int64\n",
      "dtypes: float64(5), int64(13)\n",
      "memory usage: 3.0 MB\n"
     ]
    },
    {
     "data": {
      "text/html": [
       "<div>\n",
       "<style>\n",
       "    .dataframe thead tr:only-child th {\n",
       "        text-align: right;\n",
       "    }\n",
       "\n",
       "    .dataframe thead th {\n",
       "        text-align: left;\n",
       "    }\n",
       "\n",
       "    .dataframe tbody tr th {\n",
       "        vertical-align: top;\n",
       "    }\n",
       "</style>\n",
       "<table border=\"1\" class=\"dataframe\">\n",
       "  <thead>\n",
       "    <tr style=\"text-align: right;\">\n",
       "      <th></th>\n",
       "      <th>price</th>\n",
       "      <th>bedrooms</th>\n",
       "      <th>bathrooms</th>\n",
       "      <th>sqft_living</th>\n",
       "      <th>sqft_lot</th>\n",
       "      <th>floors</th>\n",
       "      <th>waterfront</th>\n",
       "      <th>view</th>\n",
       "      <th>condition</th>\n",
       "      <th>grade</th>\n",
       "      <th>sqft_above</th>\n",
       "      <th>sqft_basement</th>\n",
       "      <th>yr_built</th>\n",
       "      <th>yr_renovated</th>\n",
       "      <th>lat</th>\n",
       "      <th>long</th>\n",
       "      <th>sqft_living15</th>\n",
       "      <th>sqft_lot15</th>\n",
       "    </tr>\n",
       "  </thead>\n",
       "  <tbody>\n",
       "    <tr>\n",
       "      <th>count</th>\n",
       "      <td>2.161300e+04</td>\n",
       "      <td>21613.000000</td>\n",
       "      <td>21613.000000</td>\n",
       "      <td>21613.000000</td>\n",
       "      <td>2.161300e+04</td>\n",
       "      <td>21613.000000</td>\n",
       "      <td>21613.000000</td>\n",
       "      <td>21613.000000</td>\n",
       "      <td>21613.000000</td>\n",
       "      <td>21613.000000</td>\n",
       "      <td>21613.000000</td>\n",
       "      <td>21613.000000</td>\n",
       "      <td>21613.000000</td>\n",
       "      <td>21613.000000</td>\n",
       "      <td>21613.000000</td>\n",
       "      <td>21613.000000</td>\n",
       "      <td>21613.000000</td>\n",
       "      <td>21613.000000</td>\n",
       "    </tr>\n",
       "    <tr>\n",
       "      <th>mean</th>\n",
       "      <td>5.400881e+05</td>\n",
       "      <td>3.370842</td>\n",
       "      <td>2.114757</td>\n",
       "      <td>2079.899736</td>\n",
       "      <td>1.510697e+04</td>\n",
       "      <td>1.494309</td>\n",
       "      <td>0.007542</td>\n",
       "      <td>0.234303</td>\n",
       "      <td>3.409430</td>\n",
       "      <td>7.656873</td>\n",
       "      <td>1788.390691</td>\n",
       "      <td>291.509045</td>\n",
       "      <td>1971.005136</td>\n",
       "      <td>84.402258</td>\n",
       "      <td>47.560053</td>\n",
       "      <td>-122.213896</td>\n",
       "      <td>1986.552492</td>\n",
       "      <td>12768.455652</td>\n",
       "    </tr>\n",
       "    <tr>\n",
       "      <th>std</th>\n",
       "      <td>3.671272e+05</td>\n",
       "      <td>0.930062</td>\n",
       "      <td>0.770163</td>\n",
       "      <td>918.440897</td>\n",
       "      <td>4.142051e+04</td>\n",
       "      <td>0.539989</td>\n",
       "      <td>0.086517</td>\n",
       "      <td>0.766318</td>\n",
       "      <td>0.650743</td>\n",
       "      <td>1.175459</td>\n",
       "      <td>828.090978</td>\n",
       "      <td>442.575043</td>\n",
       "      <td>29.373411</td>\n",
       "      <td>401.679240</td>\n",
       "      <td>0.138564</td>\n",
       "      <td>0.140828</td>\n",
       "      <td>685.391304</td>\n",
       "      <td>27304.179631</td>\n",
       "    </tr>\n",
       "    <tr>\n",
       "      <th>min</th>\n",
       "      <td>7.500000e+04</td>\n",
       "      <td>0.000000</td>\n",
       "      <td>0.000000</td>\n",
       "      <td>290.000000</td>\n",
       "      <td>5.200000e+02</td>\n",
       "      <td>1.000000</td>\n",
       "      <td>0.000000</td>\n",
       "      <td>0.000000</td>\n",
       "      <td>1.000000</td>\n",
       "      <td>1.000000</td>\n",
       "      <td>290.000000</td>\n",
       "      <td>0.000000</td>\n",
       "      <td>1900.000000</td>\n",
       "      <td>0.000000</td>\n",
       "      <td>47.155900</td>\n",
       "      <td>-122.519000</td>\n",
       "      <td>399.000000</td>\n",
       "      <td>651.000000</td>\n",
       "    </tr>\n",
       "    <tr>\n",
       "      <th>25%</th>\n",
       "      <td>3.219500e+05</td>\n",
       "      <td>3.000000</td>\n",
       "      <td>1.750000</td>\n",
       "      <td>1427.000000</td>\n",
       "      <td>5.040000e+03</td>\n",
       "      <td>1.000000</td>\n",
       "      <td>0.000000</td>\n",
       "      <td>0.000000</td>\n",
       "      <td>3.000000</td>\n",
       "      <td>7.000000</td>\n",
       "      <td>1190.000000</td>\n",
       "      <td>0.000000</td>\n",
       "      <td>1951.000000</td>\n",
       "      <td>0.000000</td>\n",
       "      <td>47.471000</td>\n",
       "      <td>-122.328000</td>\n",
       "      <td>1490.000000</td>\n",
       "      <td>5100.000000</td>\n",
       "    </tr>\n",
       "    <tr>\n",
       "      <th>50%</th>\n",
       "      <td>4.500000e+05</td>\n",
       "      <td>3.000000</td>\n",
       "      <td>2.250000</td>\n",
       "      <td>1910.000000</td>\n",
       "      <td>7.618000e+03</td>\n",
       "      <td>1.500000</td>\n",
       "      <td>0.000000</td>\n",
       "      <td>0.000000</td>\n",
       "      <td>3.000000</td>\n",
       "      <td>7.000000</td>\n",
       "      <td>1560.000000</td>\n",
       "      <td>0.000000</td>\n",
       "      <td>1975.000000</td>\n",
       "      <td>0.000000</td>\n",
       "      <td>47.571800</td>\n",
       "      <td>-122.230000</td>\n",
       "      <td>1840.000000</td>\n",
       "      <td>7620.000000</td>\n",
       "    </tr>\n",
       "    <tr>\n",
       "      <th>75%</th>\n",
       "      <td>6.450000e+05</td>\n",
       "      <td>4.000000</td>\n",
       "      <td>2.500000</td>\n",
       "      <td>2550.000000</td>\n",
       "      <td>1.068800e+04</td>\n",
       "      <td>2.000000</td>\n",
       "      <td>0.000000</td>\n",
       "      <td>0.000000</td>\n",
       "      <td>4.000000</td>\n",
       "      <td>8.000000</td>\n",
       "      <td>2210.000000</td>\n",
       "      <td>560.000000</td>\n",
       "      <td>1997.000000</td>\n",
       "      <td>0.000000</td>\n",
       "      <td>47.678000</td>\n",
       "      <td>-122.125000</td>\n",
       "      <td>2360.000000</td>\n",
       "      <td>10083.000000</td>\n",
       "    </tr>\n",
       "    <tr>\n",
       "      <th>max</th>\n",
       "      <td>7.700000e+06</td>\n",
       "      <td>33.000000</td>\n",
       "      <td>8.000000</td>\n",
       "      <td>13540.000000</td>\n",
       "      <td>1.651359e+06</td>\n",
       "      <td>3.500000</td>\n",
       "      <td>1.000000</td>\n",
       "      <td>4.000000</td>\n",
       "      <td>5.000000</td>\n",
       "      <td>13.000000</td>\n",
       "      <td>9410.000000</td>\n",
       "      <td>4820.000000</td>\n",
       "      <td>2015.000000</td>\n",
       "      <td>2015.000000</td>\n",
       "      <td>47.777600</td>\n",
       "      <td>-121.315000</td>\n",
       "      <td>6210.000000</td>\n",
       "      <td>871200.000000</td>\n",
       "    </tr>\n",
       "  </tbody>\n",
       "</table>\n",
       "</div>"
      ],
      "text/plain": [
       "              price      bedrooms     bathrooms   sqft_living      sqft_lot  \\\n",
       "count  2.161300e+04  21613.000000  21613.000000  21613.000000  2.161300e+04   \n",
       "mean   5.400881e+05      3.370842      2.114757   2079.899736  1.510697e+04   \n",
       "std    3.671272e+05      0.930062      0.770163    918.440897  4.142051e+04   \n",
       "min    7.500000e+04      0.000000      0.000000    290.000000  5.200000e+02   \n",
       "25%    3.219500e+05      3.000000      1.750000   1427.000000  5.040000e+03   \n",
       "50%    4.500000e+05      3.000000      2.250000   1910.000000  7.618000e+03   \n",
       "75%    6.450000e+05      4.000000      2.500000   2550.000000  1.068800e+04   \n",
       "max    7.700000e+06     33.000000      8.000000  13540.000000  1.651359e+06   \n",
       "\n",
       "             floors    waterfront          view     condition         grade  \\\n",
       "count  21613.000000  21613.000000  21613.000000  21613.000000  21613.000000   \n",
       "mean       1.494309      0.007542      0.234303      3.409430      7.656873   \n",
       "std        0.539989      0.086517      0.766318      0.650743      1.175459   \n",
       "min        1.000000      0.000000      0.000000      1.000000      1.000000   \n",
       "25%        1.000000      0.000000      0.000000      3.000000      7.000000   \n",
       "50%        1.500000      0.000000      0.000000      3.000000      7.000000   \n",
       "75%        2.000000      0.000000      0.000000      4.000000      8.000000   \n",
       "max        3.500000      1.000000      4.000000      5.000000     13.000000   \n",
       "\n",
       "         sqft_above  sqft_basement      yr_built  yr_renovated           lat  \\\n",
       "count  21613.000000   21613.000000  21613.000000  21613.000000  21613.000000   \n",
       "mean    1788.390691     291.509045   1971.005136     84.402258     47.560053   \n",
       "std      828.090978     442.575043     29.373411    401.679240      0.138564   \n",
       "min      290.000000       0.000000   1900.000000      0.000000     47.155900   \n",
       "25%     1190.000000       0.000000   1951.000000      0.000000     47.471000   \n",
       "50%     1560.000000       0.000000   1975.000000      0.000000     47.571800   \n",
       "75%     2210.000000     560.000000   1997.000000      0.000000     47.678000   \n",
       "max     9410.000000    4820.000000   2015.000000   2015.000000     47.777600   \n",
       "\n",
       "               long  sqft_living15     sqft_lot15  \n",
       "count  21613.000000   21613.000000   21613.000000  \n",
       "mean    -122.213896    1986.552492   12768.455652  \n",
       "std        0.140828     685.391304   27304.179631  \n",
       "min     -122.519000     399.000000     651.000000  \n",
       "25%     -122.328000    1490.000000    5100.000000  \n",
       "50%     -122.230000    1840.000000    7620.000000  \n",
       "75%     -122.125000    2360.000000   10083.000000  \n",
       "max     -121.315000    6210.000000  871200.000000  "
      ]
     },
     "metadata": {},
     "output_type": "execute_result"
    }
   ],
   "source": [
    "print(df.shape)\n",
    "print(\"------------------------------------------\")\n",
    "df.info()\n",
    "df.describe()"
   ]
  },
  {
   "cell_type": "markdown",
   "metadata": {
    "collapsed": true
   },
   "source": [
    "<p  style=\"text-align: justify;\">\n",
    "    El dataset posee $21613$ datos, los cuales poseen $18$ atributos cada uno donde describen las distintas caracteristicas de las casa, por ejemplo, el precio de venta de la casa, la cantidad de habitaciones y baños, la cantidad de metros cuadrados construidos, y los del terreno. Además, de otras especificaciones tecnicas como el año de construcción, el año de la ultima renovacion, el promedio de metros cuadrados construidos y de terreno de las 15 casas más cercanas. \n",
    "</p>\n",
    "\n",
    "<p  style=\"text-align: justify;\">\n",
    "    Todos estos datos nos ayudarian a tomar decisiones sobre cual casa se deberia comprar.\n",
    "</p>\n",
    "\n",
    "<p  style=\"text-align: justify;\">\n",
    "    **(c)** Normalice los datos antes de trabajar y aplique una transformación adecuada a la variable a predecir.\n",
    "Explique la importancia/conveniencia de realizar estas dos operaciones.\n",
    "</p>"
   ]
  },
  {
   "cell_type": "code",
   "metadata": {
    "collapsed": true
   },
   "outputs": [],
   "source": [
    "from sklearn.preprocessing import StandardScaler\n",
    "scaler = StandardScaler()\n",
    "df_scaled = pd.DataFrame(scaler.fit_transform(df), columns=df.columns)\n",
    "df_scaled['price'] = np.log(df['price'])"
   ]
  },
  {
   "cell_type": "markdown",
   "metadata": {},
   "source": [
    "<p  style=\"text-align: justify;\">\n",
    "    **(d)** Realice una regresión lineal de mínimos cuadrados básica. Explique la importancia/conveniencia del\n",
    "paso 4 y los argumentos que se deben entregar a la función que implementa la regresión lineal.\n",
    "</p>"
   ]
  },
  {
   "cell_type": "code",
   "metadata": {},
   "outputs": [
    {
     "data": {
      "text/plain": [
       "LinearRegression(copy_X=True, fit_intercept=False, n_jobs=1, normalize=False)"
      ]
     },
     "execution_count": 5,
     "execution_count": 114,
     "metadata": {},
     "output_type": "execute_result"
    }
   ],
   "source": [
    "import sklearn.linear_model as lm\n",
    "X = df_scaled.iloc[:,1:] #use .ix instead, in older pandas version\n",
    "N = X.shape[0]\n",
    "X.insert(X.shape[1], 'intercept', np.ones(N))\n",
    "y = df_scaled['price']\n",
    "#mascara estatica con el 70% de los datos\n",
    "mascara = np.zeros(len(X))\n",
    "limit = int(len(X)*0.7)\n",
    "mascara[:limit] = 1\n",
    "istrain = mascara== 1\n",
    "Xtrain = X[istrain]\n",
    "ytrain = y[istrain]\n",
    "Xtest = X[np.logical_not(istrain)]\n",
    "ytest = y[np.logical_not(istrain)]\n",
    "linreg = lm.LinearRegression(fit_intercept = False)\n",
    "linreg.fit(Xtrain, ytrain)"
   ]
  },
  {
   "cell_type": "markdown",
   "metadata": {},
   "source": [
    "<p  style=\"text-align: justify;\">\n",
    "    **(e)** Construya una tabla con los pesos y Z-score correspondientes a cada predictor (variable). ¿Qué variables\n",
    "están más correlacionadas con la respuesta? Si usáramos un nivel de significación del 5%. ¿Qué es lo\n",
    "que observa y cuál puede ser la causa?\n",
    "</p>\n"
   ]
  },
  {
   "cell_type": "code",
   "execution_count": 10,
   "execution_count": 111,
   "metadata": {},
   "outputs": [
    {
     "name": "stdout",
     "output_type": "stream",
     "text": [
      "[ -8.26987934e-03   5.59597464e-02   5.77687964e-02   2.21594833e-02\n",
      "   3.75946006e-02   3.35263653e-02   4.20824650e-02   4.52767575e-02\n",
      "   1.86212419e-01   4.71301183e-02   3.16990298e-02  -1.09875223e-01\n",
      "   1.47981265e-02   1.86277321e-01  -4.07918551e-03   8.59326727e-02\n",
      "  -7.01264301e-03   1.30396924e+01]\n"
     "ename": "TypeError",
     "evalue": "'LinearRegression' object is not callable",
     "output_type": "error",
     "traceback": [
      "\u001b[1;31m---------------------------------------------------------------------------\u001b[0m",
      "\u001b[1;31mTypeError\u001b[0m                                 Traceback (most recent call last)",
      "\u001b[1;32m<ipython-input-111-80987334faf7>\u001b[0m in \u001b[0;36m<module>\u001b[1;34m()\u001b[0m\n\u001b[0;32m      1\u001b[0m \u001b[1;32mfrom\u001b[0m \u001b[0mscipy\u001b[0m \u001b[1;32mimport\u001b[0m \u001b[0mstats\u001b[0m\u001b[1;33m\u001b[0m\u001b[0m\n\u001b[0;32m      2\u001b[0m \u001b[0mw\u001b[0m \u001b[1;33m=\u001b[0m \u001b[0mlinreg\u001b[0m\u001b[1;33m.\u001b[0m\u001b[0mcoef_\u001b[0m \u001b[1;31m#pesos predictor\u001b[0m\u001b[1;33m\u001b[0m\u001b[0m\n\u001b[1;32m----> 3\u001b[1;33m \u001b[0mw2\u001b[0m \u001b[1;33m=\u001b[0m \u001b[0mlinreg\u001b[0m\u001b[1;33m(\u001b[0m\u001b[0malpha\u001b[0m \u001b[1;33m=\u001b[0m \u001b[1;36m0.05\u001b[0m\u001b[1;33m)\u001b[0m\u001b[1;33m\u001b[0m\u001b[0m\n\u001b[0m\u001b[0;32m      4\u001b[0m \u001b[0mzscoreX\u001b[0m \u001b[1;33m=\u001b[0m \u001b[0msum\u001b[0m\u001b[1;33m(\u001b[0m\u001b[0mstats\u001b[0m\u001b[1;33m.\u001b[0m\u001b[0mzscore\u001b[0m\u001b[1;33m(\u001b[0m\u001b[0mXtrain\u001b[0m\u001b[1;33m,\u001b[0m \u001b[0maxis\u001b[0m\u001b[1;33m=\u001b[0m\u001b[1;36m1\u001b[0m\u001b[1;33m)\u001b[0m\u001b[1;33m)\u001b[0m \u001b[1;31m#zscore predictor\u001b[0m\u001b[1;33m\u001b[0m\u001b[0m\n\u001b[0;32m      5\u001b[0m \u001b[0mwz\u001b[0m \u001b[1;33m=\u001b[0m \u001b[0mnp\u001b[0m\u001b[1;33m.\u001b[0m\u001b[0mempty\u001b[0m\u001b[1;33m(\u001b[0m\u001b[1;33m(\u001b[0m\u001b[1;36m18\u001b[0m\u001b[1;33m,\u001b[0m\u001b[1;36m2\u001b[0m\u001b[1;33m)\u001b[0m\u001b[1;33m)\u001b[0m\u001b[1;33m\u001b[0m\u001b[0m\n",
      "\u001b[1;31mTypeError\u001b[0m: 'LinearRegression' object is not callable"
     ]
    }
   ],
   "source": [
    "#from scipy import stats\n",
    "#print(stats.zscore(Xtrain))\n",
    "#stats.zscore(ytrain)\n",
    "print(linreg.coef_)\n",
    "#print(stats.zscore(ytrain))\n",
    "#print(np.random.randint(100, 200, size=(5, 3)))\n",
    "df_zscoreX = (Xtrain - Xtrain.mean())/Xtrain.std()\n",
    "df_zscorey = (ytrain - ytrain.mean())/ytrain.std()\n",
    "df = pd.DataFrame(Xtrain, columns=['Y', 'Z-Score'])\n",
    "#from scipy.stats import zscore\n",
    "#print(df_zcoreX)"
    "from scipy import stats\n",
    "w = linreg.coef_ #pesos predictor\n",
    "w2 = linreg(alpha = 0.05)\n",
    "zscoreX = sum(stats.zscore(Xtrain, axis=1)) #zscore predictor\n",
    "wz = np.empty((18,2))\n",
    "for i in range(0,18):\n",
    "    wz[i][0] = linreg.coef_[i]\n",
    "    wz[i][1] = zscore[i]\n",
    "df = pd.DataFrame(wz, columns = [\"Peso\",\"Z-score\"])\n",
    "df.index = [\"bedrooms\",\"bathrooms\",\"sqft_living\",\"sqft_lot\",\"floors\",\"waterfront\",\"view\",\"condition\",\n",
    "\"grade\",\"sqft_above\",\"sqft_basement\",\"yr_built\",\"yr_renovated\",\"lat\",\"long\",\"sqft_living15\",\"sqft_lot15\",\"intercept\"] \n",
    "slope, intercept, r_value, p_value, std_err = stats.linregress(Xtrain,ytrain)\n",
    "df"
   ]
  },
  {
   "cell_type": "markdown",
   "metadata": {},
   "source": [
    "<p  style=\"text-align: justify;\">\n",
    "    Las variables más correlocionadas son: sqft_above, sqft_basement y lat\n",
    "</p>\n"
   ]
  },
  {
   "cell_type": "markdown",
   "metadata": {},
   "source": [
    "<p  style=\"text-align: justify;\">\n",
    "    **(f)** Proponga un método para corregir lo observado (Hint: inspírese en los métodos de feature engineering\n",
    "de las siguiente secciones). Verifíquelo mediante los Z-score presentados en la pregunta *(e)*.\n",
    "</p>"
   ]
  },
  {
   "cell_type": "code",
   "execution_count": null,
   "metadata": {
    "collapsed": true
   },
   "outputs": [],
   "source": []
  },
  {
   "cell_type": "markdown",
   "metadata": {},
   "source": [
    "<p  style=\"text-align: justify;\">\n",
    "    **(g)** Estime el error de predicción del modelo usando validación cruzada con un número de folds igual a $K\n",
    "= 5$ y $K = 10$. Recuerde que para que la estimación sea razonable, en cada configuración (_fold_) debería\n",
    "reajustar los pesos del modelo. Mida el error real del modelo sobre el conjunto de pruebas, compare y\n",
    "concluya.\n",
    "</p>"
   ]
  },
  {
   "cell_type": "code",
   "execution_count": 11,
   "metadata": {
    "collapsed": true
   },
   "outputs": [],
   "source": [
    "yhat_test = linreg.predict(Xtest)\n",
    "mse_test = np.mean(np.power(yhat_test - ytest, 2))\n",
    "Xm = Xtrain.as_matrix()\n",
    "ym = ytrain.as_matrix()\n",
    "from sklearn.model_selection import KFold\n",
    "kf = KFold(n_splits=10)\n",
    "mse_cv = 0\n",
    "for train, val in kf.split(Xm):\n",
    "    linreg = lm.LinearRegression(fit_intercept = False)\n",
    "    linreg.fit(Xm[train], ym[train])\n",
    "    yhat_val = linreg.predict(Xm[val])\n",
    "    mse_fold = np.mean(np.power(yhat_val - ym[val], 2))\n",
    "    mse_cv += mse_fold\n",
    "mse_cv = mse_cv / 10"
   ]
  },
  {
   "cell_type": "markdown",
   "metadata": {},
   "source": [
    "<p  style=\"text-align: justify;\">\n",
    "    **(h)** Mida los errores de predicción para cada dato de entrenamiento. Utilizando un \"quantile-quantile plot\"\n",
    "determine si es razonable la hipótesis de normalidad sobre los residuos del modelo.\n",
    "</p>"
   ]
  },
  {
   "cell_type": "markdown",
   "metadata": {},
   "source": [
    "#  2 Selección de Atributos\n"
   ]
  },
  {
   "cell_type": "markdown",
   "metadata": {},
   "source": [
    "<p  style=\"text-align: justify;\">\n",
    "    **(a)** Construya una función que implemente Forward Step-wise Selection (FSS). Es decir, partiendo con un\n",
    "modelo sin predictores (variables), agregue un predictor a la vez, re-ajustando el modelo de regresión\n",
    "en cada paso. Para seleccionar localmente una variable, proponga/implemente un criterio distinto al\n",
    "utilizado en el código de ejemplo. Construya un gráfico que muestre el error de entrenamiento y el error\n",
    "de pruebas como función del número de variables en el modelo. Ordene el eje x de menor a mayor.\n",
    "\n",
    "</p>"
   ]
  },
  {
   "cell_type": "code",
   "execution_count": 21,
   "metadata": {},
   "outputs": [
    {
     "ename": "AttributeError",
     "evalue": "'range' object has no attribute 'remove'",
     "output_type": "error",
     "traceback": [
      "\u001b[1;31m---------------------------------------------------------------------------\u001b[0m",
      "\u001b[1;31mAttributeError\u001b[0m                            Traceback (most recent call last)",
      "\u001b[1;32m<ipython-input-21-0250a78187eb>\u001b[0m in \u001b[0;36m<module>\u001b[1;34m()\u001b[0m\n\u001b[0;32m     25\u001b[0m     \u001b[1;32mreturn\u001b[0m \u001b[0mselected\u001b[0m\u001b[1;33m\u001b[0m\u001b[0m\n\u001b[0;32m     26\u001b[0m \u001b[0mnames_regressors\u001b[0m \u001b[1;33m=\u001b[0m \u001b[0mX\u001b[0m\u001b[1;33m.\u001b[0m\u001b[0mcolumns\u001b[0m\u001b[1;33m[\u001b[0m\u001b[1;33m:\u001b[0m\u001b[1;33m-\u001b[0m\u001b[1;36m1\u001b[0m\u001b[1;33m]\u001b[0m \u001b[1;31m#without intercept\u001b[0m\u001b[1;33m\u001b[0m\u001b[0m\n\u001b[1;32m---> 27\u001b[1;33m \u001b[0mfss\u001b[0m\u001b[1;33m(\u001b[0m\u001b[0mXm\u001b[0m\u001b[1;33m,\u001b[0m\u001b[0mym\u001b[0m\u001b[1;33m,\u001b[0m\u001b[0mnames_regressors\u001b[0m\u001b[1;33m)\u001b[0m\u001b[1;33m\u001b[0m\u001b[0m\n\u001b[0m",
      "\u001b[1;32m<ipython-input-21-0250a78187eb>\u001b[0m in \u001b[0;36mfss\u001b[1;34m(x, y, names_x, k)\u001b[0m\n\u001b[0;32m     19\u001b[0m         \u001b[0mscore_candidates\u001b[0m\u001b[1;33m[\u001b[0m\u001b[1;33m:\u001b[0m\u001b[1;33m]\u001b[0m \u001b[1;33m=\u001b[0m \u001b[0mscore_candidates\u001b[0m\u001b[1;33m[\u001b[0m\u001b[1;33m:\u001b[0m\u001b[1;33m:\u001b[0m\u001b[1;33m-\u001b[0m\u001b[1;36m1\u001b[0m\u001b[1;33m]\u001b[0m\u001b[1;33m\u001b[0m\u001b[0m\n\u001b[0;32m     20\u001b[0m         \u001b[0mbest_new_score\u001b[0m\u001b[1;33m,\u001b[0m \u001b[0mbest_candidate\u001b[0m \u001b[1;33m=\u001b[0m \u001b[0mscore_candidates\u001b[0m\u001b[1;33m.\u001b[0m\u001b[0mpop\u001b[0m\u001b[1;33m(\u001b[0m\u001b[1;33m)\u001b[0m\u001b[1;33m\u001b[0m\u001b[0m\n\u001b[1;32m---> 21\u001b[1;33m         \u001b[0mremaining\u001b[0m\u001b[1;33m.\u001b[0m\u001b[0mremove\u001b[0m\u001b[1;33m(\u001b[0m\u001b[0mbest_candidate\u001b[0m\u001b[1;33m)\u001b[0m\u001b[1;33m\u001b[0m\u001b[0m\n\u001b[0m\u001b[0;32m     22\u001b[0m         \u001b[0mselected\u001b[0m\u001b[1;33m.\u001b[0m\u001b[0mappend\u001b[0m\u001b[1;33m(\u001b[0m\u001b[0mbest_candidate\u001b[0m\u001b[1;33m)\u001b[0m\u001b[1;33m\u001b[0m\u001b[0m\n\u001b[0;32m     23\u001b[0m         \u001b[0mprint\u001b[0m \u001b[1;33m(\u001b[0m\u001b[1;34m\"selected = %s ...\"\u001b[0m\u001b[1;33m%\u001b[0m\u001b[0mnames_x\u001b[0m\u001b[1;33m[\u001b[0m\u001b[0mbest_candidate\u001b[0m\u001b[1;33m]\u001b[0m\u001b[1;33m)\u001b[0m\u001b[1;33m\u001b[0m\u001b[0m\n",
      "\u001b[1;31mAttributeError\u001b[0m: 'range' object has no attribute 'remove'"
     ]
    }
   ],
   "source": [
    "def fss(x, y, names_x, k = 10000):\n",
    "    p = x.shape[1]-1\n",
    "    k = min(p, k)\n",
    "    names_x = np.array(names_x)\n",
    "    remaining = range(0, p)\n",
    "    selected = [p]\n",
    "    current_score = best_new_score = 0.0\n",
    "    while remaining and len(selected)<=k :\n",
    "        score_candidates = []\n",
    "        for candidate in remaining:\n",
    "            model = lm.LinearRegression(fit_intercept=False)\n",
    "            indexes = selected + [candidate]\n",
    "            x_train = x[:,indexes]\n",
    "            predictions_train = model.fit(x_train, y).predict(x_train)\n",
    "            residuals_train = predictions_train - y\n",
    "            mse_candidate = np.mean(np.power(residuals_train, 2))\n",
    "            score_candidates.append((mse_candidate, candidate))\n",
    "        score_candidates.sort()\n",
    "        score_candidates[:] = score_candidates[::-1]\n",
    "        best_new_score, best_candidate = score_candidates.pop()\n",
    "        remaining.remove(best_candidate)\n",
    "        selected.append(best_candidate)\n",
    "        print (\"selected = %s ...\"%names_x[best_candidate])\n",
    "        print (\"totalvars=%d, mse = %f\"%(len(indexes),best_new_score))\n",
    "    return selected\n",
    "names_regressors = X.columns[:-1] #without intercept\n",
    "fss(Xm,ym,names_regressors)"
   ]
  },
  {
   "cell_type": "markdown",
   "metadata": {},
   "source": [
    "<p  style=\"text-align: justify;\">\n",
    "\n",
    "</p>"
   ]
  },
  {
   "cell_type": "markdown",
   "metadata": {},
   "source": [
    "#  3 Regularización"
   ]
  },
  {
   "cell_type": "markdown",
   "metadata": {},
   "source": [
    "<p  style=\"text-align: justify;\">\n",
    "    **(a)** Ajuste un modelo lineal utilizando \"Ridge Regression\", es decir, regularizando con la norma $l_2$. Utilice\n",
    "valores del parámetro de regularización $\\lambda$ en el rango $[10^7, 10^1]$, variando si estima conveniente.\n",
    "Construya un gráfico que muestre los coeficientes obtenidos como función del parámetro de regularización. Describa lo que observa. (WARNING: Note que la línea 3 y el primer argumento en la línea 9\n",
    "son críticos).\n",
    "\n",
    "</p>"
   ]
  },
  {
   "cell_type": "code",
   "execution_count": 75,
   "metadata": {},
   "outputs": [
    {
     "data": {
      "image/png": "iVBORw0KGgoAAAANSUhEUgAABCQAAAIcCAYAAAAub3/zAAAABHNCSVQICAgIfAhkiAAAAAlwSFlz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\nAEB0BBIAAAAAACC6/wNaTgeSumOQAQAAAABJRU5ErkJggg==\n",
      "text/plain": [
       "<matplotlib.figure.Figure at 0x24db5d2fdd8>"
      ]
     },
     "metadata": {},
     "output_type": "display_data"
    }
   ],
   "source": [
    "from sklearn.linear_model import Ridge\n",
    "import matplotlib.pylab as plt\n",
    "X2 = X.drop('intercept', axis=1,inplace=False)\n",
    "Xtrain = X2[istrain]\n",
    "ytrain = y[istrain]\n",
    "names_regressors = X2.columns\n",
    "alphas_ = np.logspace(7,1,base=10)\n",
    "coefs = []\n",
    "model = Ridge(fit_intercept=True,solver='svd')\n",
    "for a in alphas_:\n",
    "    model.set_params(alpha=a)\n",
    "    model.fit(Xtrain, ytrain)\n",
    "    coefs.append(model.coef_)\n",
    "plt.figure(figsize=(18,9))\n",
    "ax = plt.gca()\n",
    "for y_arr, label in zip(np.squeeze(coefs).T, names_regressors):\n",
    "    plt.plot(alphas_, y_arr, label=label)\n",
    "    plt.legend()\n",
    "ax.set_xscale('log')\n",
    "ax.set_xlim(ax.get_xlim()[::-1]) # reverse axis\n",
    "plt.title('Regularization Path RIDGE')\n",
    "plt.axis('tight')\n",
    "plt.legend(loc=2)\n",
    "plt.show()"
   ]
  },
  {
   "cell_type": "markdown",
   "metadata": {},
   "source": [
    "<p  style=\"text-align: justify;\">\n",
    "    **(b)** Ajuste un modelo lineal utilizando el método \"Lasso\", es decir, regularizando con la norma $l_1$. Utilice\n",
    "valores del parámetro de regularización $\\lambda$ en el rango $[10^0, 10^-3]$. Para obtener el código, modifique\n",
    "las líneas 7 y 9 del ejemplo anterior. Construya un gráfico que muestre los coeficientes obtenidos\n",
    "como función del parámetro de regularización. Describa lo que observa. ¿Es más efectivo Lasso para\n",
    "seleccionar atributos?.\n",
    "\n",
    "</p>"
   ]
  },
  {
   "cell_type": "code",
   "execution_count": 82,
   "metadata": {},
   "outputs": [
    {
     "data": {
      "image/png": "iVBORw0KGgoAAAANSUhEUgAABCQAAAIcCAYAAAAub3/zAAAABHNCSVQICAgIfAhkiAAAAAlwSFlz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\nu4OMAAAAAElFTkSuQmCC\n",
      "text/plain": [
       "<matplotlib.figure.Figure at 0x24db82a55f8>"
      ]
     },
     "metadata": {},
     "output_type": "display_data"
    }
   ],
   "source": [
    "from sklearn.linear_model import Ridge\n",
    "import matplotlib.pylab as plt\n",
    "X2 = X.drop('intercept', axis=1,inplace=False)\n",
    "Xtrain = X2[istrain]\n",
    "ytrain = y[istrain]\n",
    "names_regressors = X2.columns\n",
    "alphas_ = np.logspace(0,-3,base=10)\n",
    "coefs = []\n",
    "model = Lasso(fit_intercept=True)\n",
    "for a in alphas_:\n",
    "    model.set_params(alpha=a)\n",
    "    model.fit(Xtrain, ytrain)\n",
    "    coefs.append(model.coef_)\n",
    "plt.figure(figsize=(18,9))\n",
    "ax = plt.gca()\n",
    "for y_arr, label in zip(np.squeeze(coefs).T, names_regressors):\n",
    "    plt.plot(alphas_, y_arr, label=label)\n",
    "    plt.legend()\n",
    "ax.set_xscale('log')\n",
    "ax.set_xlim(ax.get_xlim()[::-1]) # reverse axis\n",
    "plt.title('Regularization Path Lasso')\n",
    "plt.axis('tight')\n",
    "plt.legend(loc=2)\n",
    "plt.show()"
   ]
  },
  {
   "cell_type": "markdown",
   "metadata": {},
   "source": [
    "<p  style=\"text-align: justify;\">\n",
    "    **(c)** Escogiendo uno de los dos métodos regularizadores anteriores, especificando el porqué, construya un\n",
    "gráfico que muestre el error de entrenamiento y el error de pruebas como función del parámetro de\n",
    "regularizacion. Discuta lo que observa.\n",
    "</p>"
   ]
  },
  {
   "cell_type": "code",
   "execution_count": 84,
   "metadata": {},
   "outputs": [
    {
     "ename": "SyntaxError",
     "evalue": "invalid syntax (<ipython-input-84-bcf276da91f5>, line 5)",
     "output_type": "error",
     "traceback": [
      "\u001b[1;36m  File \u001b[1;32m\"<ipython-input-84-bcf276da91f5>\"\u001b[1;36m, line \u001b[1;32m5\u001b[0m\n\u001b[1;33m    model = '''Ridge(fit_intercept=True,solver='svd')''' Lasso(fit_intercept=True)\u001b[0m\n\u001b[1;37m                                                             ^\u001b[0m\n\u001b[1;31mSyntaxError\u001b[0m\u001b[1;31m:\u001b[0m invalid syntax\n"
     ]
    }
   ],
   "source": [
    "Xtest = X2[np.logical_not(istrain)]\n",
    "ytest = y[np.logical_not(istrain)]\n",
    "alphas_ = np.logspace(0,-3,base=10) #np.logspace(7,1,base=10)\n",
    "coefs = []\n",
    "model =  #Ridge(fit_intercept=True,solver='svd') #Lasso(fit_intercept=True) \n",
    "mse_test = []\n",
    "mse_train = []\n",
    "for a in alphas_:\n",
    "    model.set_params(alpha=a)\n",
    "    model.fit(Xtrain, ytrain)\n",
    "    yhat_train = model.predict(Xtrain)\n",
    "    yhat_test = model.predict(Xtest)\n",
    "    mse_train.append(np.mean(np.power(yhat_train - ytrain, 2)))\n",
    "    mse_test.append(np.mean(np.power(yhat_test - ytest, 2)))\n",
    "ax = plt.gca()\n",
    "ax.plot(alphas_,mse_train,label='train error ridge')\n",
    "ax.plot(alphas_,mse_test,label='test error ridge')\n",
    "plt.legend(loc=1)\n",
    "ax.set_xscale('log')\n",
    "ax.set_xlim(ax.get_xlim()[::-1])\n",
    "plt.show()"
   ]
  },
  {
   "cell_type": "markdown",
   "metadata": {},
   "source": [
    "<p  style=\"text-align: justify;\">\n",
    "    **(d)** Estime el valor del parámetro de regularización en **alguno** de los modelos anteriores haciendo uso de\n",
    "la técnica validación cruzada.\n",
    "\n",
    "</p>"
   ]
  },
  {
   "cell_type": "code",
   "execution_count": 15,
   "metadata": {},
   "outputs": [
    {
     "ename": "SyntaxError",
     "evalue": "invalid syntax (<ipython-input-15-630ea2a59baf>, line 7)",
     "output_type": "error",
     "traceback": [
      "\u001b[1;36m  File \u001b[1;32m\"<ipython-input-15-630ea2a59baf>\"\u001b[1;36m, line \u001b[1;32m7\u001b[0m\n\u001b[1;33m    model = #choose it\u001b[0m\n\u001b[1;37m                      ^\u001b[0m\n\u001b[1;31mSyntaxError\u001b[0m\u001b[1;31m:\u001b[0m invalid syntax\n"
     ]
    }
   ],
   "source": [
    "def MSE(y,yhat): return np.mean(np.power(y-yhat,2))\n",
    "Xm = Xtrain.as_matrix()\n",
    "ym = ytrain.as_matrix()\n",
    "from sklearn.model_selection import KFold\n",
    "kf = KFold(n_splits=10)\n",
    "best_cv_mse = float(\"inf\")\n",
    "model = #choose it\n",
    "alphas_ = #alphas to evaluate\n",
    "for a in alphas_:\n",
    "    model.set_params(alpha=a)\n",
    "    mse_list_k10 = [MSE(model.fit(Xm[train], ym[train]).predict(Xm[val]), ym[val]) for train, val in kf.split(Xm)]\n",
    "    if np.mean(mse_list_k10) < best_cv_mse:\n",
    "        best_cv_mse = np.mean(mse_list_k10)\n",
    "        best_alpha = a\n",
    "        print \"BEST PARAMETER=%f, MSE(CV)=%f\"%(best_alpha,best_cv_mse)"
   ]
  },
  {
   "cell_type": "markdown",
   "metadata": {},
   "source": [
    "#  4 Drift"
   ]
  },
  {
   "cell_type": "markdown",
   "metadata": {},
   "source": [
    "<p  style=\"text-align: justify;\">\n",
    "    En esta sección se presentarán dos muestras del dataframe utilizado en la actividades anteriores, donde cada\n",
    "una de estas tiene una propiedad distinta ya que son muestreadas en función del valor a predecir (logaritmo\n",
    "del precio de la casa). Por una parte se tiene una peque~na muestra A, la cual es extraída directamente de\n",
    "los datos con los que se trabaja (manteniendo la distribución de esta) y la muestra B, es generada con el\n",
    "propósito de que en cada intervalo del rango de valores haya la misma cantidad de datos aproximadamente\n",
    "(simulando una distribución uniforme). El objetivo es familiarizarse con el concepto de _Transfer Learning_.\n",
    "\n",
    "</p>"
   ]
  },
  {
   "cell_type": "code",
   "execution_count": 17,
   "metadata": {
    "collapsed": true
   },
   "outputs": [],
   "source": [
    "df_A = df_scaled.sample(1000,random_state=11)\n",
    "\n",
    "frames = []\n",
    "valor = df_scaled.price\n",
    "length = 0.3\n",
    "for z in np.arange(int(np.min(valor)),int(np.max(valor))+1,length):\n",
    "    #un maximo de 100 datos por intervalo\n",
    "    aux = df_scaled[(df_scaled.price >= z) & (df_scaled.price < z+length)].head(100)\n",
    "    frames.append(aux)\n",
    "df_B = pd.concat(frames).sample(1000,random_state=11) #crea el dataframe"
   ]
  },
  {
   "cell_type": "markdown",
   "metadata": {},
   "source": [
    "<p  style=\"text-align: justify;\">\n",
    "    **(a)** Cree el conjunto de entrenamiento y otro de validación para trabajar cada muestra mediante la técnica\n",
    "de _hold out validation_.\n",
    "\n",
    "</p>"
   ]
  },
  {
   "cell_type": "code",
   "execution_count": 18,
   "metadata": {
    "collapsed": true
   },
   "outputs": [],
   "source": [
    "X_A = df_A.iloc[:,1:].values\n",
    "y_A = df_A.price\n",
    "X_B = df_B.iloc[:,1:].values\n",
    "y_B = df_B.price\n",
    "from sklearn.model_selection import train_test_split\n",
    "Xtrain_A,Xval_A,ytrain_A,yval_A = train_test_split(X_A, y_A, test_size=0.3, random_state=42)\n",
    "Xtrain_B,Xval_B,ytrain_B,yval_B = train_test_split(X_B, y_B, test_size=0.3, random_state=42)"
   ]
  },
  {
   "cell_type": "markdown",
   "metadata": {},
   "source": [
    "<p  style=\"text-align: justify;\">\n",
    "    **(b)** Cree el conjunto de entrenamiento y otro de validación para trabajar cada muestra mediante la técnica\n",
    "de _hold out validation_.\n",
    "\n",
    "</p>\n",
    "\n",
    "<p  style=\"text-align: justify;\">\n",
    "    Respuesta\n",
    "</p>"
   ]
  },
  {
   "cell_type": "markdown",
   "metadata": {},
   "source": [
    "<p  style=\"text-align: justify;\">\n",
    "    **(c)** Cree el conjunto de entrenamiento y otro de validación para trabajar cada muestra mediante la técnica\n",
    "de _hold out validation_.\n",
    "\n",
    "</p>\n",
    "\n",
    "<p  style=\"text-align: justify;\">\n",
    "    Respuesta\n",
    "</p>"
   ]
  },
  {
   "cell_type": "markdown",
   "metadata": {},
   "source": [
    "#  5 Detectar enfermedades cardíacas"
   ]
  },
  {
   "cell_type": "markdown",
   "metadata": {},
   "source": [
    "<p  style=\"text-align: justify;\">\n",
    "    En el área de la salud, diagnosticar a una persona de una enfermedad de forma rápida y correcta puede llegar\n",
    "a salvarle la vida. Los encargados de realizar estos diagnósticos, son médicos que, observando exámenes y\n",
    "ciertos indicadores, pueden concluir qué enfermedad presenta el paciente. Si el medico se llegase a equivocar,\n",
    "aparte de que el paciente pueda perder la vida, el medico podría ser demandado por negligencia arriesgando\n",
    "a~nos de cárcel o pagar sumas de dinero considerable, es por estas razones que es importante no cometer\n",
    "errores.\n",
    "Pongámonos en el contexto de que usted es contratado para generar un modelo que prediga si es que un\n",
    "paciente presenta una enfermedad cardiaca a partir de ciertos indicadores, tales como la edad, sexo, presión sanguínea, nivel de glicemia, etc. Los datos para trabajar junto a su documentación pueden ser descargados\n",
    "ejecutando los siguientes comandos en un terminal (sistemas UNIX)\n",
    "</p>\n",
    "\n",
    "- wget https://archive.ics.uci.edu/ml/machine-learning-databases/statlog/heart/heart.dat\n",
    "- wget https://archive.ics.uci.edu/ml/machine-learning-databases/statlog/heart/heart.doc"
   ]
  },
  {
   "cell_type": "markdown",
   "metadata": {},
   "source": [
    "<p  style=\"text-align: justify;\">\n",
    "    Como ayuda se le indica que la variable de máximo ritmo cardíaco alcanzado (_maximum heart rate achieved_)\n",
    "es un buen indicador de detección de enfermedades cardíacas. Por lo que el objetivo es predecir el comportamiento\n",
    "de esta variable en función de las otras, y con esto detectar qué tan distante es el valor real al valor\n",
    "predecido para así luego detectar los posibles _outliers_ (enfermos), que en sí corresponden a pacientes que\n",
    "tienen un comportamiento anormal al resto.\n",
    "\n",
    "</p>\n",
    "\n",
    "<p  style=\"text-align: justify;\">\n",
    "   **(a)** Lea el archivo de datos, cárguelos en un dataframe o matriz, luego divida el dataframe en dos, un\n",
    "dataframe de entrenamiento (70% Datos) y un dataframe de prueba (30% Datos).\n",
    "\n",
    "</p>"
   ]
  },
  {
   "cell_type": "code",
   "execution_count": 68,
   "metadata": {
    "collapsed": true
   },
   "outputs": [],
   "source": [
    "headers = [\"age\",\"sex\",\"chest_pain\",\"blood_p\",\"serum\",\"blood_s\",\"electro\",\"max_heart\",\"angina\"\n",
    "           ,\"oldpeak\",\"slope\",\"vessel\",\"thal\",\"normal\"]\n",
    "\n",
    "\n",
    "df = pd.read_table(\"heart.dat\", header=None, names=headers, sep=\" \", engine=\"python\")\n",
    "train, test = train_test_split(df, test_size=0.3)"
   ]
  },
  {
   "cell_type": "markdown",
   "metadata": {},
   "source": [
    "<p  style=\"text-align: justify;\">\n",
    "   **(b)** Realice una regresión lineal y defina usted una frontera de decisión (umbral) para poder determinar si\n",
    "es que estamos en presencia o no de una enfermedad cardíaca. Mida su desempeño con ambos conjuntos\n",
    "de datos.\n",
    "\n",
    "</p>"
   ]
  },
  {
   "cell_type": "code",
   "execution_count": 70,
   "metadata": {},
   "outputs": [
    {
     "ename": "SyntaxError",
     "evalue": "unexpected EOF while parsing (<ipython-input-70-2219744725f0>, line 5)",
     "output_type": "error",
     "traceback": [
      "\u001b[1;36m  File \u001b[1;32m\"<ipython-input-70-2219744725f0>\"\u001b[1;36m, line \u001b[1;32m5\u001b[0m\n\u001b[1;33m    print (\"Score: \"%(accuracy_score(y_outlier,y_predict_outlier))\u001b[0m\n\u001b[1;37m                                                                  ^\u001b[0m\n\u001b[1;31mSyntaxError\u001b[0m\u001b[1;31m:\u001b[0m unexpected EOF while parsing\n"
     ]
    }
   ],
   "source": [
    "\n",
    "\n",
    "\n",
    "from sklearn.metrics import accuracy_score\n",
    "print (\"Score: \"%(accuracy_score(y_outlier,y_predict_outlier))"
   ]
  },
  {
   "cell_type": "markdown",
   "metadata": {},
   "source": [
    "<div id='obj' />\n",
    "# Referencias\n",
    "\n",
    "<ul style=\"text-align: justify;\">\n",
    "    <li>https://www.kaggle.com/harlfoxem/housesalesprediction/discussion/23194</li>\n",
    "    <li>https://rstudio-pubs-static.s3.amazonaws.com/155304_cc51f448116744069664b35e7762999f.html</li>\n",
    "    <li>http://scikit-learn.org/stable/modules/generated/sklearn.preprocessing.StandardScaler.html</li>\n",
    "    <li>https://fisicamatematic.wordpress.com/2011/11/04/minimos-cuadrados</li>\n",
    "    <li></li>\n",
    "    <li></li>\n",
    "</ul>"
   ]
  },
  {
   "cell_type": "markdown",
   "metadata": {},
   "source": [
    "<div id='obj' />\n",
    "\n"
   ]
  },
  {
   "cell_type": "code",
   "execution_count": null,
   "metadata": {
    "collapsed": true
   },
   "outputs": [],
   "source": []
  },
  {
   "cell_type": "code",
   "execution_count": null,
   "metadata": {
    "collapsed": true
   },
   "outputs": [],
   "source": []
  }
 ],
 "metadata": {
  "anaconda-cloud": {},
  "kernelspec": {
   "display_name": "Python 3",
   "language": "python",
   "name": "python3"
  },
  "language_info": {
   "codemirror_mode": {
    "name": "ipython",
    "version": 3
   },
   "file_extension": ".py",
   "mimetype": "text/x-python",
   "name": "python",
   "nbconvert_exporter": "python",
   "pygments_lexer": "ipython3",
   "version": "3.6.1"
   "version": "3.6.2"
  }
 },
 "nbformat": 4,
 "nbformat_minor": 1
}
